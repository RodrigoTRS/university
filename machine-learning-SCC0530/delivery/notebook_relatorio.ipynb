{
 "cells": [
  {
   "cell_type": "markdown",
   "metadata": {},
   "source": [
    "# **Projeto de aprendizado de máquina - SCC0530 - Inteligência Artificial**\n",
    "\n",
    "| Integrantes do grupo | Número USP  |\n",
    "|------|------|\n",
    "|Rodrigo Teixeira Ribeiro da Silva|11816164|\n",
    "|João Pedro Alonso|11832343|\n",
    "|Allan Baldissin|8657904|\n",
    "\n",
    "## **Índice**\n",
    "1. Descrição do projeto\n",
    "2. Operações com os datasets\n",
    "    1. Drugs A, B, C, X, Y for decision trees\n",
    "    2. Biomechanical features of orthopedic patients\n",
    "    3. Single digit handwritten image"
   ]
  },
  {
   "cell_type": "code",
   "execution_count": 2,
   "metadata": {},
   "outputs": [],
   "source": [
    "# Importações\n",
    "\n",
    "import pandas as pd\n",
    "import numpy as np\n",
    "import plotly.express as px\n",
    "import matplotlib.pyplot as plt\n",
    "import seaborn as sns\n",
    "from sklearn.model_selection import train_test_split, RandomizedSearchCV\n",
    "from sklearn.tree import DecisionTreeClassifier\n",
    "from sklearn.metrics import confusion_matrix\n",
    "from sklearn.preprocessing import LabelEncoder"
   ]
  },
  {
   "cell_type": "markdown",
   "metadata": {},
   "source": [
    "----\n",
    "# 1. Descrição do projeto\n",
    "\n",
    "O relatório a seguir será composto da seguinte forma para cada um dos datasets:\n",
    "- **Seção 1** - Descrição do dataset.\n",
    "\n",
    "- **Selção 2** - Operações com o dataset\n",
    "\n",
    "- **Seção 3** - Seleção da medida(s) de avaliação mais adequada aos datasets selecionados.\n",
    "\n",
    "- **Seção 4** - Utilização de validação cruzada nos experimentos.\n",
    "\n",
    "- **Seção 5** - Aplicação de algum dos seguintes algoritmos de classificação com diferentes configurações (hiperparâmetros): K-Nearest Neighbors (KNN), Naive Bayes, Árvores de Decisão e Multilayer Perceptron (MLP).\n",
    "\n",
    "- **Seção 6** - Avaliação do modelo\n"
   ]
  },
  {
   "cell_type": "markdown",
   "metadata": {},
   "source": [
    "----\n",
    "# 2. Operações com os datasets"
   ]
  },
  {
   "cell_type": "markdown",
   "metadata": {},
   "source": [
    "## 2.1. - Drugs A, B, C, X, Y for decision trees\n",
    "**Mais informações sobre o dataset:** <a href=\"https://www.kaggle.com/datasets/pablomgomez21/drugs-a-b-c-x-y-for-decision-trees\">Clique aqui.</a>\n",
    "\n",
    "2.1.1 - Descrição do dataset\n",
    "\n",
    "O dataset a seguir contém dados sobre pacientes que sofreram da mesma doença. Durante o tratamento, cada paciente respondeu a um entre cinco medicamentos: A, B, C, X e Y.\n",
    "\n",
    "Cada paciente possui os seguintes dados: idade, sexo, pressão sanguínea e colesterol, e o medicamente a qual cada paciente reagiu. A análise a seguir buscará prever qual medicamento será apropriada para um futuro paciente."
   ]
  },
  {
   "cell_type": "code",
   "execution_count": null,
   "metadata": {},
   "outputs": [],
   "source": [
    "# 2.1.2. - Operações com o dataset\n",
    "\n",
    "# Importante e imprimindo dataset\n",
    "df = pd.read_csv('data/dataset_1/drugs.csv', sep=',', na_values='?')\n",
    "df"
   ]
  },
  {
   "cell_type": "code",
   "execution_count": null,
   "metadata": {},
   "outputs": [],
   "source": [
    "# Pré-processamentos\n",
    "\n",
    "# Primeiro os dados serão divididos entre colunas numéricas e não númericas\n",
    "not_numeric = df.iloc[:, [1,2,3,5]]\n",
    "numeric = df.iloc[:,[0, 4]]\n",
    "not_numeric"
   ]
  },
  {
   "cell_type": "code",
   "execution_count": null,
   "metadata": {},
   "outputs": [],
   "source": [
    "# Agora será utilizado o label encoder para transformar as colunas da tabela \"not_numeric\"\n",
    "\n",
    "enc_not_numeric = not_numeric.copy()\n",
    "for col in not_numeric.columns:\n",
    "    lb = LabelEncoder()\n",
    "    enc_not_numeric[col] = lb.fit_transform(not_numeric[col].values)\n",
    "enc_not_numeric"
   ]
  },
  {
   "cell_type": "code",
   "execution_count": null,
   "metadata": {},
   "outputs": [],
   "source": [
    "# E por fim os dados serão concetenados novamente na tabela\n",
    "\n",
    "data = pd.concat([numeric, enc_not_numeric], axis = 1)\n",
    "data"
   ]
  },
  {
   "cell_type": "code",
   "execution_count": null,
   "metadata": {},
   "outputs": [],
   "source": [
    "# Através das visualizações acima, é possível dizer que a droga Y é consumida por todas as idaedes e contém o maior valor de Na_to_K\n",
    "fig = px.scatter(df, x=\"Age\", y=\"Cholesterol\" , color = \"Age\" )\n",
    "fig.show()"
   ]
  },
  {
   "cell_type": "code",
   "execution_count": null,
   "metadata": {},
   "outputs": [],
   "source": [
    "## 2.1.3 - Avaliação dos dados\n",
    "\n",
    "# Avaliando a distribuição dos dados\n",
    "data.describe()"
   ]
  },
  {
   "cell_type": "code",
   "execution_count": null,
   "metadata": {},
   "outputs": [],
   "source": [
    "# Checando por dados nulos\n",
    "data.info()"
   ]
  },
  {
   "cell_type": "code",
   "execution_count": null,
   "metadata": {},
   "outputs": [],
   "source": [
    "# Cheacando por dados duplicados\n",
    "data.duplicated().sum()"
   ]
  },
  {
   "cell_type": "code",
   "execution_count": null,
   "metadata": {},
   "outputs": [],
   "source": [
    "# Visualizado o dado alvo (resposta a ser obtida)\n",
    "sns.countplot(x = data['Drug'], color= 'blue')"
   ]
  },
  {
   "cell_type": "code",
   "execution_count": 12,
   "metadata": {},
   "outputs": [],
   "source": [
    "# Dividindo os dados entre os dados alvo (as drogas) e as variáveis que serão utilizadas para tomada de decisão\n",
    "X = data.drop('Drug', axis = 1)\n",
    "y = data['Drug']"
   ]
  },
  {
   "cell_type": "code",
   "execution_count": null,
   "metadata": {},
   "outputs": [],
   "source": [
    "\n",
    "## 2.1.4 - Utilização das validações cruzadas\n",
    "\n",
    "# Construção do modelo para árvore de decisão\n",
    "clf = DecisionTreeClassifier()\n",
    "\n",
    "# Definição dos parâmetros para validação cruzada\n",
    "param_dist = {'max_depth': [None, 2, 3, 4, 5, 6],\n",
    "             'criterion': ['gini', 'entropy'],\n",
    "             'min_samples_split': [5, 10, 12],\n",
    "             'max_leaf_nodes': [10, 15, 20, None]}\n",
    "\n",
    "rcv = RandomizedSearchCV(clf, param_distributions = param_dist, n_iter = 10, cv = 5)\n",
    "rcv.fit(X, y)"
   ]
  },
  {
   "cell_type": "code",
   "execution_count": null,
   "metadata": {},
   "outputs": [],
   "source": [
    "## 2.1.5 - Aplicação dos algoritmos de classificação\n",
    "\n",
    "# Melhor acurácia de algoritmo de classificação\n",
    "rcv.best_score_"
   ]
  },
  {
   "cell_type": "code",
   "execution_count": null,
   "metadata": {},
   "outputs": [],
   "source": [
    "# Melhor algoritmo de classificação\n",
    "rcv.best_estimator_"
   ]
  },
  {
   "cell_type": "code",
   "execution_count": null,
   "metadata": {},
   "outputs": [],
   "source": [
    "# Melhores parâmetros para classificação\n",
    "rcv.best_params_"
   ]
  },
  {
   "cell_type": "code",
   "execution_count": 17,
   "metadata": {},
   "outputs": [],
   "source": [
    "# Definição da função de avaliação do modelo\n",
    "def model_evaluation(classifier):\n",
    "    cm = confusion_matrix(y_test, classifier.predict(X_test))\n",
    "    counts = [value for value in cm.flatten()]\n",
    "    labels = [f'{v1}' for v1 in counts]\n",
    "    labels = np.asarray(labels).reshape(5,5)\n",
    "    sns.heatmap(cm, annot = labels, cmap = 'Greens', fmt = '')\n",
    "    \n",
    "X_train, X_test, y_train, y_test = train_test_split(X, y)\n",
    "\n",
    "# Contruindo a avaliação com o melhor modelo descoberto\n",
    "dt = DecisionTreeClassifier(criterion = 'gini', max_leaf_nodes = 15, min_samples_split = 12).fit(X_train, y_train)"
   ]
  },
  {
   "cell_type": "code",
   "execution_count": null,
   "metadata": {},
   "outputs": [],
   "source": [
    "## 2.1.6 - Avaliação do modelo\n",
    "\n",
    "# Score da árvore de decisão com o melhor modelo aplicado\n",
    "dt.score(X_train, y_train), dt.score(X_test, y_test)"
   ]
  },
  {
   "cell_type": "code",
   "execution_count": null,
   "metadata": {},
   "outputs": [],
   "source": [
    "# Como visto, o modelo obteve quase 100% de acurácia tanto para o dataset de treinamento quanto para o de testes.\n",
    "\n",
    "# A figura abaixo vai mostrar como o modelo preveu os valores e também as contagens, sendo que os blocos na diagonal são\n",
    "# os valores corretamente previstos e os outros valores são os previstos de maneira errada.\n",
    "\n",
    "model_evaluation(dt)\n"
   ]
  },
  {
   "cell_type": "markdown",
   "metadata": {},
   "source": [
    "## 2.2. Biomechanical features of orthopedic patients\n",
    "**Mais informações sobre o dataset:** <a href=\"https://www.kaggle.com/code/codeblogger/k-nearest-neighbors-knn-classification-75-25/notebook\">Clique aqui.</a>\n",
    "\n",
    "2.2.1 - Descrição do dataset\n",
    "\n",
    "O dataset a seguir apresenta dados biomecânicos de alguns pacientes ortopédicos. Para cada paciente os seguintes dados são apresentados: incidência pélvica, inclinação pélvica, angulo da lordose lombar, declive sacral, raio da pelve, grau de espondilolistese, além de uma classificação como normal ou anormal de cada paciente.\n",
    "\n",
    "O modelo a seguir utilizará o modelo KNN para, a partir do treinamento utilizando os dados do dataset, para prever a classificação de um possível novo paciente como normal ou anormal apartir de suas características biomecânicas."
   ]
  },
  {
   "cell_type": "code",
   "execution_count": 37,
   "metadata": {},
   "outputs": [
    {
     "data": {
      "text/html": [
       "<div>\n",
       "<style scoped>\n",
       "    .dataframe tbody tr th:only-of-type {\n",
       "        vertical-align: middle;\n",
       "    }\n",
       "\n",
       "    .dataframe tbody tr th {\n",
       "        vertical-align: top;\n",
       "    }\n",
       "\n",
       "    .dataframe thead th {\n",
       "        text-align: right;\n",
       "    }\n",
       "</style>\n",
       "<table border=\"1\" class=\"dataframe\">\n",
       "  <thead>\n",
       "    <tr style=\"text-align: right;\">\n",
       "      <th></th>\n",
       "      <th>pelvic_incidence</th>\n",
       "      <th>pelvic_tilt numeric</th>\n",
       "      <th>lumbar_lordosis_angle</th>\n",
       "      <th>sacral_slope</th>\n",
       "      <th>pelvic_radius</th>\n",
       "      <th>degree_spondylolisthesis</th>\n",
       "      <th>class</th>\n",
       "    </tr>\n",
       "  </thead>\n",
       "  <tbody>\n",
       "    <tr>\n",
       "      <th>0</th>\n",
       "      <td>63.027817</td>\n",
       "      <td>22.552586</td>\n",
       "      <td>39.609117</td>\n",
       "      <td>40.475232</td>\n",
       "      <td>98.672917</td>\n",
       "      <td>-0.254400</td>\n",
       "      <td>Abnormal</td>\n",
       "    </tr>\n",
       "    <tr>\n",
       "      <th>1</th>\n",
       "      <td>39.056951</td>\n",
       "      <td>10.060991</td>\n",
       "      <td>25.015378</td>\n",
       "      <td>28.995960</td>\n",
       "      <td>114.405425</td>\n",
       "      <td>4.564259</td>\n",
       "      <td>Abnormal</td>\n",
       "    </tr>\n",
       "    <tr>\n",
       "      <th>2</th>\n",
       "      <td>68.832021</td>\n",
       "      <td>22.218482</td>\n",
       "      <td>50.092194</td>\n",
       "      <td>46.613539</td>\n",
       "      <td>105.985135</td>\n",
       "      <td>-3.530317</td>\n",
       "      <td>Abnormal</td>\n",
       "    </tr>\n",
       "    <tr>\n",
       "      <th>3</th>\n",
       "      <td>69.297008</td>\n",
       "      <td>24.652878</td>\n",
       "      <td>44.311238</td>\n",
       "      <td>44.644130</td>\n",
       "      <td>101.868495</td>\n",
       "      <td>11.211523</td>\n",
       "      <td>Abnormal</td>\n",
       "    </tr>\n",
       "    <tr>\n",
       "      <th>4</th>\n",
       "      <td>49.712859</td>\n",
       "      <td>9.652075</td>\n",
       "      <td>28.317406</td>\n",
       "      <td>40.060784</td>\n",
       "      <td>108.168725</td>\n",
       "      <td>7.918501</td>\n",
       "      <td>Abnormal</td>\n",
       "    </tr>\n",
       "    <tr>\n",
       "      <th>...</th>\n",
       "      <td>...</td>\n",
       "      <td>...</td>\n",
       "      <td>...</td>\n",
       "      <td>...</td>\n",
       "      <td>...</td>\n",
       "      <td>...</td>\n",
       "      <td>...</td>\n",
       "    </tr>\n",
       "    <tr>\n",
       "      <th>305</th>\n",
       "      <td>47.903565</td>\n",
       "      <td>13.616688</td>\n",
       "      <td>36.000000</td>\n",
       "      <td>34.286877</td>\n",
       "      <td>117.449062</td>\n",
       "      <td>-4.245395</td>\n",
       "      <td>Normal</td>\n",
       "    </tr>\n",
       "    <tr>\n",
       "      <th>306</th>\n",
       "      <td>53.936748</td>\n",
       "      <td>20.721496</td>\n",
       "      <td>29.220534</td>\n",
       "      <td>33.215251</td>\n",
       "      <td>114.365845</td>\n",
       "      <td>-0.421010</td>\n",
       "      <td>Normal</td>\n",
       "    </tr>\n",
       "    <tr>\n",
       "      <th>307</th>\n",
       "      <td>61.446597</td>\n",
       "      <td>22.694968</td>\n",
       "      <td>46.170347</td>\n",
       "      <td>38.751628</td>\n",
       "      <td>125.670725</td>\n",
       "      <td>-2.707880</td>\n",
       "      <td>Normal</td>\n",
       "    </tr>\n",
       "    <tr>\n",
       "      <th>308</th>\n",
       "      <td>45.252792</td>\n",
       "      <td>8.693157</td>\n",
       "      <td>41.583126</td>\n",
       "      <td>36.559635</td>\n",
       "      <td>118.545842</td>\n",
       "      <td>0.214750</td>\n",
       "      <td>Normal</td>\n",
       "    </tr>\n",
       "    <tr>\n",
       "      <th>309</th>\n",
       "      <td>33.841641</td>\n",
       "      <td>5.073991</td>\n",
       "      <td>36.641233</td>\n",
       "      <td>28.767649</td>\n",
       "      <td>123.945244</td>\n",
       "      <td>-0.199249</td>\n",
       "      <td>Normal</td>\n",
       "    </tr>\n",
       "  </tbody>\n",
       "</table>\n",
       "<p>310 rows × 7 columns</p>\n",
       "</div>"
      ],
      "text/plain": [
       "     pelvic_incidence  pelvic_tilt numeric  lumbar_lordosis_angle  \\\n",
       "0           63.027817            22.552586              39.609117   \n",
       "1           39.056951            10.060991              25.015378   \n",
       "2           68.832021            22.218482              50.092194   \n",
       "3           69.297008            24.652878              44.311238   \n",
       "4           49.712859             9.652075              28.317406   \n",
       "..                ...                  ...                    ...   \n",
       "305         47.903565            13.616688              36.000000   \n",
       "306         53.936748            20.721496              29.220534   \n",
       "307         61.446597            22.694968              46.170347   \n",
       "308         45.252792             8.693157              41.583126   \n",
       "309         33.841641             5.073991              36.641233   \n",
       "\n",
       "     sacral_slope  pelvic_radius  degree_spondylolisthesis     class  \n",
       "0       40.475232      98.672917                 -0.254400  Abnormal  \n",
       "1       28.995960     114.405425                  4.564259  Abnormal  \n",
       "2       46.613539     105.985135                 -3.530317  Abnormal  \n",
       "3       44.644130     101.868495                 11.211523  Abnormal  \n",
       "4       40.060784     108.168725                  7.918501  Abnormal  \n",
       "..            ...            ...                       ...       ...  \n",
       "305     34.286877     117.449062                 -4.245395    Normal  \n",
       "306     33.215251     114.365845                 -0.421010    Normal  \n",
       "307     38.751628     125.670725                 -2.707880    Normal  \n",
       "308     36.559635     118.545842                  0.214750    Normal  \n",
       "309     28.767649     123.945244                 -0.199249    Normal  \n",
       "\n",
       "[310 rows x 7 columns]"
      ]
     },
     "execution_count": 37,
     "metadata": {},
     "output_type": "execute_result"
    }
   ],
   "source": [
    "df = pd.read_csv('data/dataset_2/orthopedical_pacients.csv')\n",
    "df"
   ]
  },
  {
   "cell_type": "code",
   "execution_count": 22,
   "metadata": {},
   "outputs": [],
   "source": [
    "## 2.2.2 - Pré-processamento\n",
    "\n",
    "#Transformação da coluna class em um campo binário.\n",
    "df[\"class\"] = [ 1 if each == \"Abnormal\" else 0 for each in df[\"class\"]]\n",
    "data = df"
   ]
  },
  {
   "cell_type": "code",
   "execution_count": 23,
   "metadata": {},
   "outputs": [
    {
     "data": {
      "image/png": "[encoded data removed]",
      "text/plain": [
       "<Figure size 432x288 with 1 Axes>"
      ]
     },
     "metadata": {
      "needs_background": "light"
     },
     "output_type": "display_data"
    }
   ],
   "source": [
    "abnormal = df[df[\"class\"] == 1]\n",
    "normal = df[df[\"class\"] == 0]\n",
    "\n",
    "plt.scatter(abnormal.sacral_slope,abnormal.pelvic_radius,color=\"red\",label=\"Abnormal\",alpha=0.5)\n",
    "plt.scatter(normal.sacral_slope,normal.pelvic_radius,color=\"blue\",label=\"Normal\",alpha=0.5)\n",
    "plt.xlabel(\"sacral_slope\")\n",
    "plt.ylabel(\"pelvic_radius\")\n",
    "plt.show()"
   ]
  },
  {
   "cell_type": "code",
   "execution_count": 24,
   "metadata": {},
   "outputs": [
    {
     "data": {
      "text/plain": [
       "array([1, 1, 1, 1, 1, 1, 1, 1, 1, 1, 1, 1, 1, 1, 1, 1, 1, 1, 1, 1, 1, 1,\n",
       "       1, 1, 1, 1, 1, 1, 1, 1, 1, 1, 1, 1, 1, 1, 1, 1, 1, 1, 1, 1, 1, 1,\n",
       "       1, 1, 1, 1, 1, 1, 1, 1, 1, 1, 1, 1, 1, 1, 1, 1, 1, 1, 1, 1, 1, 1,\n",
       "       1, 1, 1, 1, 1, 1, 1, 1, 1, 1, 1, 1, 1, 1, 1, 1, 1, 1, 1, 1, 1, 1,\n",
       "       1, 1, 1, 1, 1, 1, 1, 1, 1, 1, 1, 1, 1, 1, 1, 1, 1, 1, 1, 1, 1, 1,\n",
       "       1, 1, 1, 1, 1, 1, 1, 1, 1, 1, 1, 1, 1, 1, 1, 1, 1, 1, 1, 1, 1, 1,\n",
       "       1, 1, 1, 1, 1, 1, 1, 1, 1, 1, 1, 1, 1, 1, 1, 1, 1, 1, 1, 1, 1, 1,\n",
       "       1, 1, 1, 1, 1, 1, 1, 1, 1, 1, 1, 1, 1, 1, 1, 1, 1, 1, 1, 1, 1, 1,\n",
       "       1, 1, 1, 1, 1, 1, 1, 1, 1, 1, 1, 1, 1, 1, 1, 1, 1, 1, 1, 1, 1, 1,\n",
       "       1, 1, 1, 1, 1, 1, 1, 1, 1, 1, 1, 1, 0, 0, 0, 0, 0, 0, 0, 0, 0, 0,\n",
       "       0, 0, 0, 0, 0, 0, 0, 0, 0, 0, 0, 0, 0, 0, 0, 0, 0, 0, 0, 0, 0, 0,\n",
       "       0, 0, 0, 0, 0, 0, 0, 0, 0, 0, 0, 0, 0, 0, 0, 0, 0, 0, 0, 0, 0, 0,\n",
       "       0, 0, 0, 0, 0, 0, 0, 0, 0, 0, 0, 0, 0, 0, 0, 0, 0, 0, 0, 0, 0, 0,\n",
       "       0, 0, 0, 0, 0, 0, 0, 0, 0, 0, 0, 0, 0, 0, 0, 0, 0, 0, 0, 0, 0, 0,\n",
       "       0, 0])"
      ]
     },
     "execution_count": 24,
     "metadata": {},
     "output_type": "execute_result"
    }
   ],
   "source": [
    "y = df[\"class\"].values\n",
    "y"
   ]
  },
  {
   "cell_type": "code",
   "execution_count": 25,
   "metadata": {},
   "outputs": [
    {
     "data": {
      "text/html": [
       "<div>\n",
       "<style scoped>\n",
       "    .dataframe tbody tr th:only-of-type {\n",
       "        vertical-align: middle;\n",
       "    }\n",
       "\n",
       "    .dataframe tbody tr th {\n",
       "        vertical-align: top;\n",
       "    }\n",
       "\n",
       "    .dataframe thead th {\n",
       "        text-align: right;\n",
       "    }\n",
       "</style>\n",
       "<table border=\"1\" class=\"dataframe\">\n",
       "  <thead>\n",
       "    <tr style=\"text-align: right;\">\n",
       "      <th></th>\n",
       "      <th>pelvic_incidence</th>\n",
       "      <th>pelvic_tilt numeric</th>\n",
       "      <th>lumbar_lordosis_angle</th>\n",
       "      <th>sacral_slope</th>\n",
       "      <th>pelvic_radius</th>\n",
       "      <th>degree_spondylolisthesis</th>\n",
       "    </tr>\n",
       "  </thead>\n",
       "  <tbody>\n",
       "    <tr>\n",
       "      <th>0</th>\n",
       "      <td>63.027817</td>\n",
       "      <td>22.552586</td>\n",
       "      <td>39.609117</td>\n",
       "      <td>40.475232</td>\n",
       "      <td>98.672917</td>\n",
       "      <td>-0.254400</td>\n",
       "    </tr>\n",
       "    <tr>\n",
       "      <th>1</th>\n",
       "      <td>39.056951</td>\n",
       "      <td>10.060991</td>\n",
       "      <td>25.015378</td>\n",
       "      <td>28.995960</td>\n",
       "      <td>114.405425</td>\n",
       "      <td>4.564259</td>\n",
       "    </tr>\n",
       "    <tr>\n",
       "      <th>2</th>\n",
       "      <td>68.832021</td>\n",
       "      <td>22.218482</td>\n",
       "      <td>50.092194</td>\n",
       "      <td>46.613539</td>\n",
       "      <td>105.985135</td>\n",
       "      <td>-3.530317</td>\n",
       "    </tr>\n",
       "    <tr>\n",
       "      <th>3</th>\n",
       "      <td>69.297008</td>\n",
       "      <td>24.652878</td>\n",
       "      <td>44.311238</td>\n",
       "      <td>44.644130</td>\n",
       "      <td>101.868495</td>\n",
       "      <td>11.211523</td>\n",
       "    </tr>\n",
       "    <tr>\n",
       "      <th>4</th>\n",
       "      <td>49.712859</td>\n",
       "      <td>9.652075</td>\n",
       "      <td>28.317406</td>\n",
       "      <td>40.060784</td>\n",
       "      <td>108.168725</td>\n",
       "      <td>7.918501</td>\n",
       "    </tr>\n",
       "    <tr>\n",
       "      <th>...</th>\n",
       "      <td>...</td>\n",
       "      <td>...</td>\n",
       "      <td>...</td>\n",
       "      <td>...</td>\n",
       "      <td>...</td>\n",
       "      <td>...</td>\n",
       "    </tr>\n",
       "    <tr>\n",
       "      <th>305</th>\n",
       "      <td>47.903565</td>\n",
       "      <td>13.616688</td>\n",
       "      <td>36.000000</td>\n",
       "      <td>34.286877</td>\n",
       "      <td>117.449062</td>\n",
       "      <td>-4.245395</td>\n",
       "    </tr>\n",
       "    <tr>\n",
       "      <th>306</th>\n",
       "      <td>53.936748</td>\n",
       "      <td>20.721496</td>\n",
       "      <td>29.220534</td>\n",
       "      <td>33.215251</td>\n",
       "      <td>114.365845</td>\n",
       "      <td>-0.421010</td>\n",
       "    </tr>\n",
       "    <tr>\n",
       "      <th>307</th>\n",
       "      <td>61.446597</td>\n",
       "      <td>22.694968</td>\n",
       "      <td>46.170347</td>\n",
       "      <td>38.751628</td>\n",
       "      <td>125.670725</td>\n",
       "      <td>-2.707880</td>\n",
       "    </tr>\n",
       "    <tr>\n",
       "      <th>308</th>\n",
       "      <td>45.252792</td>\n",
       "      <td>8.693157</td>\n",
       "      <td>41.583126</td>\n",
       "      <td>36.559635</td>\n",
       "      <td>118.545842</td>\n",
       "      <td>0.214750</td>\n",
       "    </tr>\n",
       "    <tr>\n",
       "      <th>309</th>\n",
       "      <td>33.841641</td>\n",
       "      <td>5.073991</td>\n",
       "      <td>36.641233</td>\n",
       "      <td>28.767649</td>\n",
       "      <td>123.945244</td>\n",
       "      <td>-0.199249</td>\n",
       "    </tr>\n",
       "  </tbody>\n",
       "</table>\n",
       "<p>310 rows × 6 columns</p>\n",
       "</div>"
      ],
      "text/plain": [
       "     pelvic_incidence  pelvic_tilt numeric  lumbar_lordosis_angle  \\\n",
       "0           63.027817            22.552586              39.609117   \n",
       "1           39.056951            10.060991              25.015378   \n",
       "2           68.832021            22.218482              50.092194   \n",
       "3           69.297008            24.652878              44.311238   \n",
       "4           49.712859             9.652075              28.317406   \n",
       "..                ...                  ...                    ...   \n",
       "305         47.903565            13.616688              36.000000   \n",
       "306         53.936748            20.721496              29.220534   \n",
       "307         61.446597            22.694968              46.170347   \n",
       "308         45.252792             8.693157              41.583126   \n",
       "309         33.841641             5.073991              36.641233   \n",
       "\n",
       "     sacral_slope  pelvic_radius  degree_spondylolisthesis  \n",
       "0       40.475232      98.672917                 -0.254400  \n",
       "1       28.995960     114.405425                  4.564259  \n",
       "2       46.613539     105.985135                 -3.530317  \n",
       "3       44.644130     101.868495                 11.211523  \n",
       "4       40.060784     108.168725                  7.918501  \n",
       "..            ...            ...                       ...  \n",
       "305     34.286877     117.449062                 -4.245395  \n",
       "306     33.215251     114.365845                 -0.421010  \n",
       "307     38.751628     125.670725                 -2.707880  \n",
       "308     36.559635     118.545842                  0.214750  \n",
       "309     28.767649     123.945244                 -0.199249  \n",
       "\n",
       "[310 rows x 6 columns]"
      ]
     },
     "execution_count": 25,
     "metadata": {},
     "output_type": "execute_result"
    }
   ],
   "source": [
    "x_data = df.drop([\"class\"],axis=1) # axis=1 for columns\n",
    "x_data"
   ]
  },
  {
   "cell_type": "code",
   "execution_count": 26,
   "metadata": {},
   "outputs": [
    {
     "name": "stderr",
     "output_type": "stream",
     "text": [
      "/Library/Frameworks/Python.framework/Versions/3.10/lib/python3.10/site-packages/numpy/core/fromnumeric.py:84: FutureWarning:\n",
      "\n",
      "In a future version, DataFrame.min(axis=None) will return a scalar min over the entire DataFrame. To retain the old behavior, use 'frame.min(axis=0)' or just 'frame.min()'\n",
      "\n",
      "/Library/Frameworks/Python.framework/Versions/3.10/lib/python3.10/site-packages/numpy/core/fromnumeric.py:84: FutureWarning:\n",
      "\n",
      "In a future version, DataFrame.max(axis=None) will return a scalar max over the entire DataFrame. To retain the old behavior, use 'frame.max(axis=0)' or just 'frame.max()'\n",
      "\n"
     ]
    },
    {
     "data": {
      "text/html": [
       "<div>\n",
       "<style scoped>\n",
       "    .dataframe tbody tr th:only-of-type {\n",
       "        vertical-align: middle;\n",
       "    }\n",
       "\n",
       "    .dataframe tbody tr th {\n",
       "        vertical-align: top;\n",
       "    }\n",
       "\n",
       "    .dataframe thead th {\n",
       "        text-align: right;\n",
       "    }\n",
       "</style>\n",
       "<table border=\"1\" class=\"dataframe\">\n",
       "  <thead>\n",
       "    <tr style=\"text-align: right;\">\n",
       "      <th></th>\n",
       "      <th>pelvic_incidence</th>\n",
       "      <th>pelvic_tilt numeric</th>\n",
       "      <th>lumbar_lordosis_angle</th>\n",
       "      <th>sacral_slope</th>\n",
       "      <th>pelvic_radius</th>\n",
       "      <th>degree_spondylolisthesis</th>\n",
       "    </tr>\n",
       "  </thead>\n",
       "  <tbody>\n",
       "    <tr>\n",
       "      <th>0</th>\n",
       "      <td>0.355688</td>\n",
       "      <td>0.519900</td>\n",
       "      <td>0.229180</td>\n",
       "      <td>0.250857</td>\n",
       "      <td>0.307461</td>\n",
       "      <td>0.025148</td>\n",
       "    </tr>\n",
       "    <tr>\n",
       "      <th>1</th>\n",
       "      <td>0.124501</td>\n",
       "      <td>0.296783</td>\n",
       "      <td>0.098578</td>\n",
       "      <td>0.144629</td>\n",
       "      <td>0.476649</td>\n",
       "      <td>0.036365</td>\n",
       "    </tr>\n",
       "    <tr>\n",
       "      <th>2</th>\n",
       "      <td>0.411666</td>\n",
       "      <td>0.513932</td>\n",
       "      <td>0.322995</td>\n",
       "      <td>0.307661</td>\n",
       "      <td>0.386097</td>\n",
       "      <td>0.017523</td>\n",
       "    </tr>\n",
       "    <tr>\n",
       "      <th>3</th>\n",
       "      <td>0.416151</td>\n",
       "      <td>0.557414</td>\n",
       "      <td>0.271260</td>\n",
       "      <td>0.289436</td>\n",
       "      <td>0.341826</td>\n",
       "      <td>0.051838</td>\n",
       "    </tr>\n",
       "    <tr>\n",
       "      <th>4</th>\n",
       "      <td>0.227272</td>\n",
       "      <td>0.289479</td>\n",
       "      <td>0.128129</td>\n",
       "      <td>0.247022</td>\n",
       "      <td>0.409579</td>\n",
       "      <td>0.044173</td>\n",
       "    </tr>\n",
       "    <tr>\n",
       "      <th>...</th>\n",
       "      <td>...</td>\n",
       "      <td>...</td>\n",
       "      <td>...</td>\n",
       "      <td>...</td>\n",
       "      <td>...</td>\n",
       "      <td>...</td>\n",
       "    </tr>\n",
       "    <tr>\n",
       "      <th>305</th>\n",
       "      <td>0.209822</td>\n",
       "      <td>0.360293</td>\n",
       "      <td>0.196881</td>\n",
       "      <td>0.193591</td>\n",
       "      <td>0.509380</td>\n",
       "      <td>0.015858</td>\n",
       "    </tr>\n",
       "    <tr>\n",
       "      <th>306</th>\n",
       "      <td>0.268009</td>\n",
       "      <td>0.487194</td>\n",
       "      <td>0.136211</td>\n",
       "      <td>0.183674</td>\n",
       "      <td>0.476223</td>\n",
       "      <td>0.024761</td>\n",
       "    </tr>\n",
       "    <tr>\n",
       "      <th>307</th>\n",
       "      <td>0.340438</td>\n",
       "      <td>0.522443</td>\n",
       "      <td>0.287897</td>\n",
       "      <td>0.234907</td>\n",
       "      <td>0.597796</td>\n",
       "      <td>0.019437</td>\n",
       "    </tr>\n",
       "    <tr>\n",
       "      <th>308</th>\n",
       "      <td>0.184257</td>\n",
       "      <td>0.272352</td>\n",
       "      <td>0.246846</td>\n",
       "      <td>0.214623</td>\n",
       "      <td>0.521175</td>\n",
       "      <td>0.026240</td>\n",
       "    </tr>\n",
       "    <tr>\n",
       "      <th>309</th>\n",
       "      <td>0.074202</td>\n",
       "      <td>0.207709</td>\n",
       "      <td>0.202620</td>\n",
       "      <td>0.142517</td>\n",
       "      <td>0.579240</td>\n",
       "      <td>0.025277</td>\n",
       "    </tr>\n",
       "  </tbody>\n",
       "</table>\n",
       "<p>310 rows × 6 columns</p>\n",
       "</div>"
      ],
      "text/plain": [
       "     pelvic_incidence  pelvic_tilt numeric  lumbar_lordosis_angle  \\\n",
       "0            0.355688             0.519900               0.229180   \n",
       "1            0.124501             0.296783               0.098578   \n",
       "2            0.411666             0.513932               0.322995   \n",
       "3            0.416151             0.557414               0.271260   \n",
       "4            0.227272             0.289479               0.128129   \n",
       "..                ...                  ...                    ...   \n",
       "305          0.209822             0.360293               0.196881   \n",
       "306          0.268009             0.487194               0.136211   \n",
       "307          0.340438             0.522443               0.287897   \n",
       "308          0.184257             0.272352               0.246846   \n",
       "309          0.074202             0.207709               0.202620   \n",
       "\n",
       "     sacral_slope  pelvic_radius  degree_spondylolisthesis  \n",
       "0        0.250857       0.307461                  0.025148  \n",
       "1        0.144629       0.476649                  0.036365  \n",
       "2        0.307661       0.386097                  0.017523  \n",
       "3        0.289436       0.341826                  0.051838  \n",
       "4        0.247022       0.409579                  0.044173  \n",
       "..            ...            ...                       ...  \n",
       "305      0.193591       0.509380                  0.015858  \n",
       "306      0.183674       0.476223                  0.024761  \n",
       "307      0.234907       0.597796                  0.019437  \n",
       "308      0.214623       0.521175                  0.026240  \n",
       "309      0.142517       0.579240                  0.025277  \n",
       "\n",
       "[310 rows x 6 columns]"
      ]
     },
     "execution_count": 26,
     "metadata": {},
     "output_type": "execute_result"
    }
   ],
   "source": [
    "# Normalização do sistema para um processamento mais preciso\n",
    "x = (x_data - np.min(x_data))/(np.max(x_data) - np.min(x_data))\n",
    "x"
   ]
  },
  {
   "cell_type": "code",
   "execution_count": 29,
   "metadata": {},
   "outputs": [
    {
     "data": {
      "text/html": [
       "<div>\n",
       "<style scoped>\n",
       "    .dataframe tbody tr th:only-of-type {\n",
       "        vertical-align: middle;\n",
       "    }\n",
       "\n",
       "    .dataframe tbody tr th {\n",
       "        vertical-align: top;\n",
       "    }\n",
       "\n",
       "    .dataframe thead th {\n",
       "        text-align: right;\n",
       "    }\n",
       "</style>\n",
       "<table border=\"1\" class=\"dataframe\">\n",
       "  <thead>\n",
       "    <tr style=\"text-align: right;\">\n",
       "      <th></th>\n",
       "      <th>pelvic_incidence</th>\n",
       "      <th>pelvic_tilt numeric</th>\n",
       "      <th>lumbar_lordosis_angle</th>\n",
       "      <th>sacral_slope</th>\n",
       "      <th>pelvic_radius</th>\n",
       "      <th>degree_spondylolisthesis</th>\n",
       "      <th>class</th>\n",
       "    </tr>\n",
       "  </thead>\n",
       "  <tbody>\n",
       "    <tr>\n",
       "      <th>count</th>\n",
       "      <td>310.000000</td>\n",
       "      <td>310.000000</td>\n",
       "      <td>310.000000</td>\n",
       "      <td>310.000000</td>\n",
       "      <td>310.000000</td>\n",
       "      <td>310.000000</td>\n",
       "      <td>310.000000</td>\n",
       "    </tr>\n",
       "    <tr>\n",
       "      <th>mean</th>\n",
       "      <td>60.496653</td>\n",
       "      <td>17.542822</td>\n",
       "      <td>51.930930</td>\n",
       "      <td>42.953831</td>\n",
       "      <td>117.920655</td>\n",
       "      <td>26.296694</td>\n",
       "      <td>0.677419</td>\n",
       "    </tr>\n",
       "    <tr>\n",
       "      <th>std</th>\n",
       "      <td>17.236520</td>\n",
       "      <td>10.008330</td>\n",
       "      <td>18.554064</td>\n",
       "      <td>13.423102</td>\n",
       "      <td>13.317377</td>\n",
       "      <td>37.559027</td>\n",
       "      <td>0.468220</td>\n",
       "    </tr>\n",
       "    <tr>\n",
       "      <th>min</th>\n",
       "      <td>26.147921</td>\n",
       "      <td>-6.554948</td>\n",
       "      <td>14.000000</td>\n",
       "      <td>13.366931</td>\n",
       "      <td>70.082575</td>\n",
       "      <td>-11.058179</td>\n",
       "      <td>0.000000</td>\n",
       "    </tr>\n",
       "    <tr>\n",
       "      <th>25%</th>\n",
       "      <td>46.430294</td>\n",
       "      <td>10.667069</td>\n",
       "      <td>37.000000</td>\n",
       "      <td>33.347122</td>\n",
       "      <td>110.709196</td>\n",
       "      <td>1.603727</td>\n",
       "      <td>0.000000</td>\n",
       "    </tr>\n",
       "    <tr>\n",
       "      <th>50%</th>\n",
       "      <td>58.691038</td>\n",
       "      <td>16.357689</td>\n",
       "      <td>49.562398</td>\n",
       "      <td>42.404912</td>\n",
       "      <td>118.268178</td>\n",
       "      <td>11.767934</td>\n",
       "      <td>1.000000</td>\n",
       "    </tr>\n",
       "    <tr>\n",
       "      <th>75%</th>\n",
       "      <td>72.877696</td>\n",
       "      <td>22.120395</td>\n",
       "      <td>63.000000</td>\n",
       "      <td>52.695888</td>\n",
       "      <td>125.467674</td>\n",
       "      <td>41.287352</td>\n",
       "      <td>1.000000</td>\n",
       "    </tr>\n",
       "    <tr>\n",
       "      <th>max</th>\n",
       "      <td>129.834041</td>\n",
       "      <td>49.431864</td>\n",
       "      <td>125.742385</td>\n",
       "      <td>121.429566</td>\n",
       "      <td>163.071041</td>\n",
       "      <td>418.543082</td>\n",
       "      <td>1.000000</td>\n",
       "    </tr>\n",
       "  </tbody>\n",
       "</table>\n",
       "</div>"
      ],
      "text/plain": [
       "       pelvic_incidence  pelvic_tilt numeric  lumbar_lordosis_angle  \\\n",
       "count        310.000000           310.000000             310.000000   \n",
       "mean          60.496653            17.542822              51.930930   \n",
       "std           17.236520            10.008330              18.554064   \n",
       "min           26.147921            -6.554948              14.000000   \n",
       "25%           46.430294            10.667069              37.000000   \n",
       "50%           58.691038            16.357689              49.562398   \n",
       "75%           72.877696            22.120395              63.000000   \n",
       "max          129.834041            49.431864             125.742385   \n",
       "\n",
       "       sacral_slope  pelvic_radius  degree_spondylolisthesis       class  \n",
       "count    310.000000     310.000000                310.000000  310.000000  \n",
       "mean      42.953831     117.920655                 26.296694    0.677419  \n",
       "std       13.423102      13.317377                 37.559027    0.468220  \n",
       "min       13.366931      70.082575                -11.058179    0.000000  \n",
       "25%       33.347122     110.709196                  1.603727    0.000000  \n",
       "50%       42.404912     118.268178                 11.767934    1.000000  \n",
       "75%       52.695888     125.467674                 41.287352    1.000000  \n",
       "max      121.429566     163.071041                418.543082    1.000000  "
      ]
     },
     "execution_count": 29,
     "metadata": {},
     "output_type": "execute_result"
    }
   ],
   "source": [
    "## 2.2.3 - Avaliação dos dados\n",
    "\n",
    "# Avaliando a distribuição dos dados\n",
    "data.describe()"
   ]
  },
  {
   "cell_type": "code",
   "execution_count": 28,
   "metadata": {},
   "outputs": [
    {
     "name": "stdout",
     "output_type": "stream",
     "text": [
      "<class 'pandas.core.frame.DataFrame'>\n",
      "RangeIndex: 310 entries, 0 to 309\n",
      "Data columns (total 7 columns):\n",
      " #   Column                    Non-Null Count  Dtype  \n",
      "---  ------                    --------------  -----  \n",
      " 0   pelvic_incidence          310 non-null    float64\n",
      " 1   pelvic_tilt numeric       310 non-null    float64\n",
      " 2   lumbar_lordosis_angle     310 non-null    float64\n",
      " 3   sacral_slope              310 non-null    float64\n",
      " 4   pelvic_radius             310 non-null    float64\n",
      " 5   degree_spondylolisthesis  310 non-null    float64\n",
      " 6   class                     310 non-null    int64  \n",
      "dtypes: float64(6), int64(1)\n",
      "memory usage: 17.1 KB\n"
     ]
    }
   ],
   "source": [
    "# Checando por dados nulos\n",
    "data.info()"
   ]
  },
  {
   "cell_type": "code",
   "execution_count": 27,
   "metadata": {},
   "outputs": [
    {
     "data": {
      "text/plain": [
       "0"
      ]
     },
     "execution_count": 27,
     "metadata": {},
     "output_type": "execute_result"
    }
   ],
   "source": [
    "# Cheacando por dados duplicados\n",
    "data.duplicated().sum()"
   ]
  },
  {
   "cell_type": "code",
   "execution_count": 30,
   "metadata": {},
   "outputs": [],
   "source": [
    "## 2.2.5 - Aplicação dos algoritmos de classificação\n",
    "\n",
    "# Divisão dos dados para treinamento\n",
    "from sklearn.model_selection import train_test_split\n",
    "x_train, x_test, y_train, y_test = train_test_split(x,y,test_size=0.3,random_state=1)"
   ]
  },
  {
   "cell_type": "code",
   "execution_count": 31,
   "metadata": {},
   "outputs": [],
   "source": [
    "# Modelo KNN\n",
    "\n",
    "from sklearn.neighbors import KNeighborsClassifier\n",
    "knn = KNeighborsClassifier(n_neighbors=3) # n_neighbors => key value\n",
    "knn.fit(x_train,y_train)\n",
    "prediction = knn.predict(x_test)"
   ]
  },
  {
   "cell_type": "code",
   "execution_count": 32,
   "metadata": {},
   "outputs": [
    {
     "data": {
      "text/plain": [
       "array([1, 1, 1, 1, 0, 1, 0, 1, 1, 1, 0, 0, 0, 0, 0, 0, 1, 0, 1, 0, 0, 0,\n",
       "       1, 1, 0, 1, 1, 1, 0, 1, 1, 0, 0, 0, 1, 1, 1, 1, 1, 1, 0, 0, 1, 0,\n",
       "       1, 1, 0, 1, 1, 0, 1, 0, 1, 1, 1, 1, 1, 1, 1, 1, 0, 1, 1, 1, 1, 1,\n",
       "       0, 1, 1, 0, 1, 1, 1, 0, 0, 1, 1, 1, 1, 0, 0, 1, 1, 0, 0, 1, 1, 1,\n",
       "       0, 0, 1, 1, 1])"
      ]
     },
     "execution_count": 32,
     "metadata": {},
     "output_type": "execute_result"
    }
   ],
   "source": [
    "prediction"
   ]
  },
  {
   "cell_type": "code",
   "execution_count": 33,
   "metadata": {},
   "outputs": [
    {
     "data": {
      "image/png": "[encoded data removed]",
      "text/plain": [
       "<Figure size 432x288 with 1 Axes>"
      ]
     },
     "metadata": {
      "needs_background": "light"
     },
     "output_type": "display_data"
    }
   ],
   "source": [
    "## 2.2.6 - Avaliação do modelo\n",
    "\n",
    "# Encontrando o valor K\n",
    "score_list = []\n",
    "\n",
    "for each in range(1,15):\n",
    "    knn2 = KNeighborsClassifier(n_neighbors=each)\n",
    "    knn2.fit(x_train,y_train)\n",
    "    score_list.append(knn2.score(x_test,y_test))\n",
    "    \n",
    "plt.plot(range(1,15),score_list)\n",
    "plt.xlabel(\"k values\")\n",
    "plt.ylabel(\"accuracy\")\n",
    "plt.show()"
   ]
  },
  {
   "cell_type": "code",
   "execution_count": 36,
   "metadata": {},
   "outputs": [
    {
     "name": "stdout",
     "output_type": "stream",
     "text": [
      "13 KNN score: 75.26881720430107 \n"
     ]
    }
   ],
   "source": [
    "# Como é possível ver no gráfico, o valor mais preciso de k é o 13.\n",
    "# Então ele será utilizado na seção n_neighbors para o cálculo da acurácia.\n",
    "# Resultando então em uma acurácia de 75% do modelo.\n",
    "\n",
    "print(\"{} KNN score: {} \".format(13,knn.score(x_test,y_test)*100))"
   ]
  }
 ],
 "metadata": {
  "interpreter": {
   "hash": "aee8b7b246df8f9039afb4144a1f6fd8d2ca17a180786b69acc140d282b71a49"
  },
  "kernelspec": {
   "display_name": "Python 3.10.5 64-bit",
   "language": "python",
   "name": "python3"
  },
  "language_info": {
   "codemirror_mode": {
    "name": "ipython",
    "version": 3
   },
   "file_extension": ".py",
   "mimetype": "text/x-python",
   "name": "python",
   "nbconvert_exporter": "python",
   "pygments_lexer": "ipython3",
   "version": "3.10.5"
  },
  "orig_nbformat": 4,
  "vscode": {
   "interpreter": {
    "hash": "0e5b5b920195072d4a4eec1d5ff9e5f87252d2725e2a57da6939cd4fcd91d4cd"
   }
  }
 },
 "nbformat": 4,
 "nbformat_minor": 2
}
